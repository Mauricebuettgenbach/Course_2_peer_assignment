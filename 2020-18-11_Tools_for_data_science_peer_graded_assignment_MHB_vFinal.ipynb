{
 "metadata": {
  "language_info": {
   "codemirror_mode": {
    "name": "ipython",
    "version": 3
   },
   "file_extension": ".py",
   "mimetype": "text/x-python",
   "name": "python",
   "nbconvert_exporter": "python",
   "pygments_lexer": "ipython3",
   "version": "3.8.3-final"
  },
  "orig_nbformat": 2,
  "kernelspec": {
   "name": "python3",
   "display_name": "Python 3.8.3 32-bit",
   "metadata": {
    "interpreter": {
     "hash": "11f740577dc3cdbe2cc9ceb94cb489f118f4fafdbf299bf24bd6d6eed26602da"
    }
   }
  }
 },
 "nbformat": 4,
 "nbformat_minor": 2,
 "cells": [
  {
   "source": [
    "# My Jupyter Notebook on IBM Watson Studio"
   ],
   "cell_type": "markdown",
   "metadata": {}
  },
  {
   "source": [
    "__Maurice Henry Büttgenbach__  \n",
    "Project Manager Knowlegde Management"
   ],
   "cell_type": "markdown",
   "metadata": {}
  },
  {
   "source": [
    "_I am an analyst for corporate data in the real asset finance industry. The industry is compared to the financial asset world still in the stone ages - most things are based on Excel. As this requires an extremely high amount of manual work, I have started to teach myself programming languages to automize parts of my job. And what can I tell you? I kind of fell in love with it. So here I am now, trying to learn as much as I can about data science to make the most out of my two passions: real asset finance and programming._"
   ],
   "cell_type": "markdown",
   "metadata": {}
  },
  {
   "source": [
    "### The following code is a simplyfied version of Magic 8 Ball!"
   ],
   "cell_type": "markdown",
   "metadata": {}
  },
  {
   "cell_type": "code",
   "execution_count": 6,
   "metadata": {
    "tags": []
   },
   "outputs": [
    {
     "output_type": "stream",
     "name": "stdout",
     "text": [
      "Reply hazy, try again\n",
      "Reply hazy, try again\n",
      "My sources say no\n",
      "Outlook good\n",
      "Ask again later\n",
      "My reply is no\n"
     ]
    },
    {
     "output_type": "error",
     "ename": "SystemExit",
     "evalue": "",
     "traceback": [
      "An exception has occurred, use %tb to see the full traceback.\n",
      "\u001b[1;31mSystemExit\u001b[0m\n"
     ]
    }
   ],
   "source": [
    "# Import the modules\n",
    "import sys\n",
    "import random\n",
    "\n",
    "ans = True\n",
    "\n",
    "while ans:\n",
    "    question = input(\"Ask the magic 8 ball a question: (press enter to quit)\")\n",
    "    \n",
    "    answers = random.randint(1,8)\n",
    "    \n",
    "    if question == \"\":\n",
    "        sys.exit()\n",
    "    \n",
    "    elif answers == 1:\n",
    "        print (\"It is certain\")\n",
    "    \n",
    "    elif answers == 2:\n",
    "        print (\"Outlook good\")\n",
    "    \n",
    "    elif answers == 3:\n",
    "        print (\"You may rely on it\")\n",
    "    \n",
    "    elif answers == 4:\n",
    "        print (\"Ask again later\")\n",
    "    \n",
    "    elif answers == 5:\n",
    "        print(\"Concentrate and ask again\")\n",
    "    \n",
    "    elif answers == 6:\n",
    "        print(\"Reply hazy, try again\")\n",
    "    \n",
    "    elif answers == 7:\n",
    "        print(\"My reply is no\")\n",
    "    \n",
    "    elif answers == 8:\n",
    "        print(\"My sources say no\")\n"
   ]
  },
  {
   "source": [
    "#### Further information about Magic 8 Ball\n",
    "---  \n",
    "In case you don't know what Magic 8 Ball is, here are some example pictures taken from wikipedia:\n",
    "\n",
    "\n",
    "| Answer             | Picture                                                                                      |\n",
    "| :----------------- | :------------------------------------------------------------------------------------------: | \n",
    "| MY REPLY IS NO     | ![alt text](https://upload.wikimedia.org/wikipedia/commons/thumb/1/1d/Magic_8_Ball_%286090649306%29.jpg/120px-Magic_8_Ball_%286090649306%29.jpg) |\n",
    "| AS I SEE IT YES    | ![alt text](https://upload.wikimedia.org/wikipedia/commons/thumb/8/85/Magic_8_Ball_-_Instrument_Of_Evil%3F_%282426454804%29.jpg/120px-Magic_8_Ball_-_Instrument_Of_Evil%3F_%282426454804%29.jpg) |\n",
    "| DON’T COUNT ON IT  | ![alt text](https://upload.wikimedia.org/wikipedia/commons/thumb/4/42/Magic_8_Ball_-_Do_I_get_my_Christmas_wish%3F_%286521326205%29.jpg/120px-Magic_8_Ball_-_Do_I_get_my_Christmas_wish%3F_%286521326205%29.jpg) |\n",
    "\n",
    "For further information, you can read up on the respective [wikipedia page](https://en.wikipedia.org/wiki/Magic_8-Ball).\n",
    "\n",
    "Have fun and thanks for your time!\n",
    "\n",
    "BR  \n",
    "Maurice"
   ],
   "cell_type": "markdown",
   "metadata": {}
  },
  {
   "cell_type": "code",
   "execution_count": null,
   "metadata": {},
   "outputs": [],
   "source": []
  }
 ]
}